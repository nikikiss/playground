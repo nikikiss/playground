{
 "cells": [
  {
   "cell_type": "markdown",
   "metadata": {},
   "source": [
    "### Find prime numbers within a range"
   ]
  },
  {
   "cell_type": "code",
   "execution_count": 14,
   "metadata": {},
   "outputs": [
    {
     "data": {
      "text/plain": [
       "[3,\n",
       " 5,\n",
       " 7,\n",
       " 11,\n",
       " 13,\n",
       " 17,\n",
       " 19,\n",
       " 23,\n",
       " 29,\n",
       " 31,\n",
       " 37,\n",
       " 41,\n",
       " 43,\n",
       " 47,\n",
       " 53,\n",
       " 59,\n",
       " 61,\n",
       " 67,\n",
       " 71,\n",
       " 73,\n",
       " 79,\n",
       " 83,\n",
       " 89,\n",
       " 97]"
      ]
     },
     "execution_count": 14,
     "metadata": {},
     "output_type": "execute_result"
    }
   ],
   "source": [
    "def prime(a, b):\n",
    "    prime = []\n",
    "    for i in range (a, b):\n",
    "        div = False\n",
    "        for j in range (2, i):\n",
    "            if i % j == 0:\n",
    "                div = True\n",
    "                break    \n",
    "        if not div:\n",
    "            prime.append(i)\n",
    "    return prime\n",
    "prime(3, 100) "
   ]
  },
  {
   "cell_type": "markdown",
   "metadata": {},
   "source": [
    "### Count the number of words in a string (excluding punctuation marks)"
   ]
  },
  {
   "cell_type": "code",
   "execution_count": 38,
   "metadata": {},
   "outputs": [
    {
     "data": {
      "text/plain": [
       "{'all': 1,\n",
       " 'are': 1,\n",
       " 'arguments': 3,\n",
       " 'axes': 2,\n",
       " 'calling': 4,\n",
       " 'current': 2,\n",
       " 'e.g': 1,\n",
       " 'equivalent': 2,\n",
       " 'function': 2,\n",
       " 'get_xlim': 1,\n",
       " 'is': 2,\n",
       " 'no': 1,\n",
       " 'of': 2,\n",
       " 'on': 2,\n",
       " 'passed': 1,\n",
       " 'pyplot': 2,\n",
       " 'set_xlim': 1,\n",
       " 'the': 4,\n",
       " 'this': 2,\n",
       " 'though': 1,\n",
       " 'with': 2,\n",
       " 'xlim': 1}"
      ]
     },
     "execution_count": 38,
     "metadata": {},
     "output_type": "execute_result"
    }
   ],
   "source": [
    "def word_count(a): \n",
    "    words = a.split(' ')\n",
    "    words_dict = {}\n",
    "    for i in words:\n",
    "        i = i.lower().strip('.,?)!(')\n",
    "        words_dict[i] = words_dict.get(i, 0) + 1\n",
    "    return words_dict\n",
    "\n",
    "descr = 'Calling this function with no arguments (e.g. xlim()) is the pyplot equivalent of calling get_xlim on the current axes. Calling this function with arguments is the pyplot equivalent of calling set_xlim on the current axes. All arguments are passed though.'\n",
    "word_count(descr)"
   ]
  },
  {
   "cell_type": "code",
   "execution_count": null,
   "metadata": {
    "collapsed": true
   },
   "outputs": [],
   "source": []
  }
 ],
 "metadata": {
  "kernelspec": {
   "display_name": "Python 3",
   "language": "python",
   "name": "python3"
  },
  "language_info": {
   "codemirror_mode": {
    "name": "ipython",
    "version": 3
   },
   "file_extension": ".py",
   "mimetype": "text/x-python",
   "name": "python",
   "nbconvert_exporter": "python",
   "pygments_lexer": "ipython3",
   "version": "3.6.1"
  }
 },
 "nbformat": 4,
 "nbformat_minor": 2
}
